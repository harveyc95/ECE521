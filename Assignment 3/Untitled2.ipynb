{
 "cells": [
  {
   "cell_type": "code",
   "execution_count": 1,
   "metadata": {},
   "outputs": [
    {
     "name": "stdout",
     "output_type": "stream",
     "text": [
      "Extracting /tmp/data/train-images-idx3-ubyte.gz\n",
      "Extracting /tmp/data/train-labels-idx1-ubyte.gz\n",
      "Extracting /tmp/data/t10k-images-idx3-ubyte.gz\n",
      "Extracting /tmp/data/t10k-labels-idx1-ubyte.gz\n"
     ]
    }
   ],
   "source": [
    "import tensorflow as tf\n",
    "from tensorflow.examples.tutorials.mnist import input_data\n",
    "\n",
    "# handwriting number recognition\n",
    "\n",
    "mnist = input_data.read_data_sets(\"/tmp/data/\", one_hot=True)\n",
    "\n",
    "n_classes = 10\n",
    "num_feature = 28*28\n",
    "batch_size = 100 # how many samples you load at a time for training"
   ]
  },
  {
   "cell_type": "code",
   "execution_count": 11,
   "metadata": {},
   "outputs": [],
   "source": [
    "layer_weight = []\n",
    "\n",
    "def build_layer(prev_layer, num_node):\n",
    "    prev_num_node = prev_layer.shape[1].value\n",
    "    xavier_stddev = tf.sqrt(3.0/(prev_num_node + num_node))\n",
    "    W = tf.Variable(tf.random_normal(shape=[prev_num_node, num_node], stddev=xavier_stddev))\n",
    "    b = tf.Variable(tf.zeros([num_node]))\n",
    "    layer_weight.append(tf.reshape(W,[-1]))\n",
    "    return tf.add(tf.matmul(prev_layer, W), b)"
   ]
  },
  {
   "cell_type": "code",
   "execution_count": 12,
   "metadata": {},
   "outputs": [],
   "source": [
    "x = tf.placeholder(\"float\", shape=[None, num_feature])\n",
    "y_true = tf.placeholder(\"float\", shape=[None, n_classes])"
   ]
  },
  {
   "cell_type": "code",
   "execution_count": 13,
   "metadata": {},
   "outputs": [],
   "source": [
    "layer1 = build_layer(x, 500)\n",
    "layer1 = tf.nn.relu(layer1)\n",
    "\n",
    "layer2 = build_layer(layer1, 500)\n",
    "layer2 = tf.nn.relu(layer2)\n",
    "\n",
    "layer3 = build_layer(layer2, 500)\n",
    "layer3 = tf.nn.relu(layer3)"
   ]
  },
  {
   "cell_type": "code",
   "execution_count": 14,
   "metadata": {},
   "outputs": [],
   "source": [
    "y = build_layer(layer3, n_classes) #output layer"
   ]
  },
  {
   "cell_type": "code",
   "execution_count": 18,
   "metadata": {},
   "outputs": [],
   "source": [
    "all_weight = tf.concat(layer_weight, 0)"
   ]
  },
  {
   "cell_type": "code",
   "execution_count": 23,
   "metadata": {},
   "outputs": [],
   "source": [
    "weight_decay = 0.0003\n",
    "loss = tf.reduce_mean(tf.nn.softmax_cross_entropy_with_logits_v2(labels=y_true, logits=y)) + 0.5*weight_decay*tf.reduce_sum(tf.square(all_weight))"
   ]
  },
  {
   "cell_type": "code",
   "execution_count": 24,
   "metadata": {},
   "outputs": [],
   "source": [
    "optimizer = tf.train.AdamOptimizer().minimize(loss)\n",
    "hm_epochs = 30"
   ]
  },
  {
   "cell_type": "code",
   "execution_count": null,
   "metadata": {},
   "outputs": [
    {
     "name": "stdout",
     "output_type": "stream",
     "text": [
      "Epoch:  0  completed out of  30  loss:  256.20293140411377\n"
     ]
    }
   ],
   "source": [
    "with tf.Session() as s:\n",
    "    tf.global_variables_initializer().run()\n",
    "\n",
    "    for epoch in range(hm_epochs):\n",
    "        epoch_loss = 0\n",
    "        for _ in range(int(mnist.train.num_examples/batch_size)):\n",
    "            epoch_x, epoch_y = mnist.train.next_batch(batch_size) \n",
    "            _, c = s.run([optimizer, loss], feed_dict={x: epoch_x, y_true: epoch_y})\n",
    "            epoch_loss += c\n",
    "\n",
    "        print 'Epoch: ', epoch, ' completed out of ', hm_epochs, ' loss: ', epoch_loss\n",
    "\n",
    "    correct = tf.equal(tf.argmax(y, 1), tf.argmax(y_true, 1))\n",
    "\n",
    "    accuracy = tf.reduce_mean(tf.cast(correct, 'float'))\n",
    "    print 'Accuracy: ', accuracy.eval({x: mnist.test.images, y_true: mnist.test.labels})"
   ]
  },
  {
   "cell_type": "code",
   "execution_count": 15,
   "metadata": {},
   "outputs": [
    {
     "data": {
      "text/plain": [
       "784"
      ]
     },
     "execution_count": 15,
     "metadata": {},
     "output_type": "execute_result"
    }
   ],
   "source": [
    "len(epoch_x[0])"
   ]
  },
  {
   "cell_type": "code",
   "execution_count": null,
   "metadata": {},
   "outputs": [],
   "source": []
  },
  {
   "cell_type": "code",
   "execution_count": null,
   "metadata": {},
   "outputs": [],
   "source": [
    "# height x width\n",
    "x = tf.placeholder('float', [None, 784]) # image is flattened 28 x 28\n",
    "y = tf.placeholder('float')\n",
    "\n",
    "def neural_network_model(data):\n",
    "    hidden_1_layer = {\n",
    "            'weights': tf.Variable(tf.random_normal([784, n_nodes_hl1])),\n",
    "            'biases': tf.Variable(tf.random_normal([n_nodes_hl1]))\n",
    "    }\n",
    "\n",
    "    hidden_2_layer = {\n",
    "            'weights': tf.Variable(tf.random_normal([n_nodes_hl1, n_nodes_hl2])),\n",
    "            'biases': tf.Variable(tf.random_normal([n_nodes_hl2]))\n",
    "    }\n",
    "\n",
    "    hidden_3_layer = {\n",
    "            'weights': tf.Variable(tf.random_normal([n_nodes_hl2, n_nodes_hl3])),\n",
    "            'biases': tf.Variable(tf.random_normal([n_nodes_hl3]))\n",
    "    }\n",
    "\n",
    "    output_layer = {\n",
    "            'weights': tf.Variable(tf.random_normal([n_nodes_hl3, n_classes])),\n",
    "            'biases': tf.Variable(tf.random_normal([n_classes]))\n",
    "    }\n",
    "\n",
    "    l1 = tf.add(tf.matmul(data, hidden_1_layer['weights']), hidden_1_layer['biases'])\n",
    "    l1 = tf.nn.relu(l1) # rectified linear\n",
    "\n",
    "    l2 = tf.add(tf.matmul(l1, hidden_2_layer['weights']), hidden_2_layer['biases'])\n",
    "    l2 = tf.nn.relu(l2)\n",
    "\n",
    "    l3 = tf.add(tf.matmul(l2, hidden_3_layer['weights']), hidden_3_layer['biases'])\n",
    "    l3 = tf.nn.relu(l3)\n",
    "\n",
    "    output_layer = tf.add(tf.matmul(l3, output_layer['weights']), output_layer['biases'])\n",
    "\n",
    "    return output_layer\n",
    "\n",
    "\n",
    "def train_neural_network(x, y):\n",
    "    prediction = neural_network_model(x)\n",
    "    cost = tf.reduce_mean(tf.nn.softmax_cross_entropy_with_logits(logits=prediction, labels=y))\n",
    "\n",
    "    # learning_rate = 0.001 default\n",
    "    optimizer = tf.train.AdamOptimizer().minimize(cost)\n",
    "\n",
    "    # cycles of feed forward + back prop\n",
    "    hm_epochs = 30\n",
    "\n",
    "    with tf.Session() as s:\n",
    "        s.run(tf.initialize_all_variables())\n",
    "\n",
    "        for epoch in range(hm_epochs):\n",
    "            epoch_loss = 0\n",
    "            for _ in range(int(mnist.train.num_examples/batch_size)):\n",
    "                epoch_x, epoch_y = mnist.train.next_batch(batch_size)\n",
    "\n",
    "                _, c = s.run([optimizer, cost], feed_dict={x: epoch_x, y: epoch_y})\n",
    "                epoch_loss += c\n",
    "\n",
    "            print 'Epoch: ', epoch, ' completed out of ', hm_epochs, ' loss: ', epoch_loss\n",
    "\n",
    "        correct = tf.equal(tf.argmax(prediction, 1), tf.argmax(y, 1))\n",
    "\n",
    "        accuracy = tf.reduce_mean(tf.cast(correct, 'float'))\n",
    "        print 'Accuracy: ', accuracy.eval({x: mnist.test.images, y: mnist.test.labels})\n",
    "\n",
    "train_neural_network(x, y)"
   ]
  }
 ],
 "metadata": {
  "kernelspec": {
   "display_name": "Python 2",
   "language": "python",
   "name": "python2"
  },
  "language_info": {
   "codemirror_mode": {
    "name": "ipython",
    "version": 2
   },
   "file_extension": ".py",
   "mimetype": "text/x-python",
   "name": "python",
   "nbconvert_exporter": "python",
   "pygments_lexer": "ipython2",
   "version": "2.7.12"
  }
 },
 "nbformat": 4,
 "nbformat_minor": 2
}
