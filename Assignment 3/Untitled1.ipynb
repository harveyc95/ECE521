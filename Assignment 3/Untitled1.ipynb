{
 "cells": [
  {
   "cell_type": "code",
   "execution_count": 1,
   "metadata": {},
   "outputs": [],
   "source": [
    "import tensorflow as tf\n",
    "import numpy as np"
   ]
  },
  {
   "cell_type": "code",
   "execution_count": 2,
   "metadata": {},
   "outputs": [],
   "source": [
    "with np.load(\"notMNIST.npz\") as data:\n",
    "    Data, Target = data [\"images\"], data[\"labels\"]\n",
    "    Data = np.reshape(Data, [-1, 28*28])\n",
    "    np.random.seed(521)\n",
    "    randIndx = np.arange(len(Data))\n",
    "    np.random.shuffle(randIndx)\n",
    "    Data = Data[randIndx]/255.\n",
    "    Target = Target[randIndx]\n",
    "    trainData, trainTarget = Data[:15000], Target[:15000]\n",
    "    validData, validTarget = Data[15000:16000], Target[15000:16000]\n",
    "    testData, testTarget = Data[16000:], Target[16000:]"
   ]
  },
  {
   "cell_type": "code",
   "execution_count": 3,
   "metadata": {},
   "outputs": [],
   "source": [
    "num_label = 10\n",
    "num_feature = 28*28\n",
    "train_size = len(trainData)"
   ]
  },
  {
   "cell_type": "code",
   "execution_count": 4,
   "metadata": {},
   "outputs": [],
   "source": [
    "with tf.Session() as s:\n",
    "    testTarget_oh = s.run(tf.one_hot(testTarget, num_label))\n",
    "    trainTarget_oh = s.run(tf.one_hot(trainTarget, num_label))\n",
    "    validTarget_oh = s.run(tf.one_hot(validTarget, num_label))"
   ]
  },
  {
   "cell_type": "code",
   "execution_count": 5,
   "metadata": {},
   "outputs": [],
   "source": [
    "n_nodes_hl1 = 500\n",
    "n_nodes_hl2 = 500\n",
    "n_nodes_hl3 = 500\n",
    "\n",
    "n_classes = 10\n",
    "batch_size = 100 # how many samples you load at a time for training\n",
    "\n",
    "# height x width\n",
    "x = tf.placeholder('float', [None, 784]) # image is flattened 28 x 28\n",
    "y = tf.placeholder('float')\n",
    "\n",
    "def neural_network_model(data):\n",
    "    hidden_1_layer = {\n",
    "            'weights': tf.Variable(tf.random_normal([784, n_nodes_hl1])),\n",
    "            'biases': tf.Variable(tf.random_normal([n_nodes_hl1]))\n",
    "    }\n",
    "\n",
    "    hidden_2_layer = {\n",
    "            'weights': tf.Variable(tf.random_normal([n_nodes_hl1, n_nodes_hl2])),\n",
    "            'biases': tf.Variable(tf.random_normal([n_nodes_hl2]))\n",
    "    }\n",
    "\n",
    "    hidden_3_layer = {\n",
    "            'weights': tf.Variable(tf.random_normal([n_nodes_hl2, n_nodes_hl3])),\n",
    "            'biases': tf.Variable(tf.random_normal([n_nodes_hl3]))\n",
    "    }\n",
    "\n",
    "    output_layer = {\n",
    "            'weights': tf.Variable(tf.random_normal([n_nodes_hl3, n_classes])),\n",
    "            'biases': tf.Variable(tf.random_normal([n_classes]))\n",
    "    }\n",
    "\n",
    "    l1 = tf.add(tf.matmul(data, hidden_1_layer['weights']), hidden_1_layer['biases'])\n",
    "    l1 = tf.nn.relu(l1) # rectified linear\n",
    "\n",
    "    l2 = tf.add(tf.matmul(l1, hidden_2_layer['weights']), hidden_2_layer['biases'])\n",
    "    l2 = tf.nn.relu(l2)\n",
    "\n",
    "    l3 = tf.add(tf.matmul(l2, hidden_3_layer['weights']), hidden_3_layer['biases'])\n",
    "    l3 = tf.nn.relu(l3)\n",
    "\n",
    "    output_layer = tf.add(tf.matmul(l3, output_layer['weights']), output_layer['biases'])\n",
    "\n",
    "    return output_layer"
   ]
  },
  {
   "cell_type": "code",
   "execution_count": 10,
   "metadata": {},
   "outputs": [
    {
     "name": "stdout",
     "output_type": "stream",
     "text": [
      "\n"
     ]
    }
   ],
   "source": [
    "def train_neural_network(x, y):\n",
    "    prediction = neural_network_model(x)\n",
    "    cost = tf.reduce_mean(tf.nn.softmax_cross_entropy_with_logits(logits=prediction, labels=y))\n",
    "\n",
    "    # learning_rate = 0.001 default\n",
    "    optimizer = tf.train.AdamOptimizer().minimize(cost)\n",
    "\n",
    "    # cycles of feed forward + back prop\n",
    "    hm_epochs = 30\n",
    "\n",
    "    with tf.Session() as s:\n",
    "        tf.global_variables_initializer().run()\n",
    "\n",
    "        for epoch in range(hm_epochs):\n",
    "            epoch_loss = 0\n",
    "            for step in range(int(train_size/batch_size)):\n",
    "                offset = (step*batch_size) % train_size\n",
    "                batch_data = trainData[offset:(offset + batch_size)]\n",
    "                batch_target = trainTarget_oh[offset:(offset + batch_size)]\n",
    "\n",
    "                _, c = s.run([optimizer, cost], feed_dict={x: batch_data, y: batch_target})\n",
    "                epoch_loss += c\n",
    "\n",
    "            print 'Epoch: ', epoch, ' completed out of ', hm_epochs, ' loss: ', epoch_loss\n",
    "            \n",
    "        correct = tf.equal(tf.argmax(prediction, 1), tf.argmax(y, 1))\n",
    "        accuracy = tf.reduce_mean(tf.cast(correct, 'float'))\n",
    "        print 'Accuracy: ', accuracy.eval({x: testData, y: testTarget_oh})"
   ]
  },
  {
   "cell_type": "code",
   "execution_count": 11,
   "metadata": {},
   "outputs": [
    {
     "name": "stdout",
     "output_type": "stream",
     "text": [
      "Epoch:  0  completed out of  30  loss:  1409794.4208984375\n",
      "Epoch:  1  completed out of  30  loss:  521651.1258544922\n",
      "Epoch:  2  completed out of  30  loss:  340851.69396972656\n",
      "Epoch:  3  completed out of  30  loss:  237617.17849731445\n",
      "Epoch:  4  completed out of  30  loss:  164086.09784698486\n",
      "Epoch:  5  completed out of  30  loss:  117412.27304840088\n",
      "Epoch:  6  completed out of  30  loss:  85733.13893890381\n",
      "Epoch:  7  completed out of  30  loss:  63459.37327384949\n",
      "Epoch:  8  completed out of  30  loss:  51910.42724323273\n",
      "Epoch:  9  completed out of  30  loss:  37509.52601838112\n",
      "Epoch:  10  completed out of  30  loss:  30148.86616563797\n",
      "Epoch:  11  completed out of  30  loss:  24361.44171075523\n",
      "Epoch:  12  completed out of  30  loss:  19049.981132745743\n",
      "Epoch:  13  completed out of  30  loss:  14580.081715792418\n",
      "Epoch:  14  completed out of  30  loss:  15730.572695851326\n",
      "Epoch:  15  completed out of  30  loss:  11037.367868334055\n",
      "Epoch:  16  completed out of  30  loss:  12442.61767745018\n",
      "Epoch:  17  completed out of  30  loss:  10803.826192319393\n",
      "Epoch:  18  completed out of  30  loss:  10757.313183367252\n",
      "Epoch:  19  completed out of  30  loss:  9792.977561603784\n",
      "Epoch:  20  completed out of  30  loss:  14534.662636041641\n",
      "Epoch:  21  completed out of  30  loss:  10728.82096260786\n",
      "Epoch:  22  completed out of  30  loss:  12316.899481415749\n",
      "Epoch:  23  completed out of  30  loss:  10226.034955859184\n",
      "Epoch:  24  completed out of  30  loss:  13204.429670900106\n",
      "Epoch:  25  completed out of  30  loss:  13974.788410425186\n",
      "Epoch:  26  completed out of  30  loss:  10072.05986738205\n",
      "Epoch:  27  completed out of  30  loss:  10272.53522014618\n",
      "Epoch:  28  completed out of  30  loss:  8033.959537029266\n",
      "Epoch:  29  completed out of  30  loss:  8064.157701253891\n",
      "Accuracy:  0.8817915\n"
     ]
    }
   ],
   "source": [
    "train_neural_network(x, y)"
   ]
  },
  {
   "cell_type": "code",
   "execution_count": null,
   "metadata": {},
   "outputs": [],
   "source": []
  }
 ],
 "metadata": {
  "kernelspec": {
   "display_name": "Python 2",
   "language": "python",
   "name": "python2"
  },
  "language_info": {
   "codemirror_mode": {
    "name": "ipython",
    "version": 2
   },
   "file_extension": ".py",
   "mimetype": "text/x-python",
   "name": "python",
   "nbconvert_exporter": "python",
   "pygments_lexer": "ipython2",
   "version": "2.7.12"
  }
 },
 "nbformat": 4,
 "nbformat_minor": 2
}
