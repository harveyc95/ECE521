{
 "cells": [
  {
   "cell_type": "code",
   "execution_count": 1,
   "metadata": {},
   "outputs": [],
   "source": [
    "import tensorflow as tf\n",
    "import numpy as np"
   ]
  },
  {
   "cell_type": "code",
   "execution_count": 2,
   "metadata": {},
   "outputs": [],
   "source": [
    "with np.load(\"notMNIST.npz\") as data:\n",
    "    Data, Target = data [\"images\"], data[\"labels\"]\n",
    "    Data = np.reshape(Data, [-1, 28*28])\n",
    "    np.random.seed(521)\n",
    "    randIndx = np.arange(len(Data))\n",
    "    np.random.shuffle(randIndx)\n",
    "    Data = Data[randIndx]/255.\n",
    "    Target = Target[randIndx]\n",
    "    trainData, trainTarget = Data[:15000], Target[:15000]\n",
    "    validData, validTarget = Data[15000:16000], Target[15000:16000]\n",
    "    testData, testTarget = Data[16000:], Target[16000:]"
   ]
  },
  {
   "cell_type": "code",
   "execution_count": 3,
   "metadata": {},
   "outputs": [],
   "source": [
    "num_label = 10\n",
    "num_feature = 28*28\n",
    "train_size = len(trainData)"
   ]
  },
  {
   "cell_type": "code",
   "execution_count": 4,
   "metadata": {},
   "outputs": [],
   "source": [
    "with tf.Session() as s:\n",
    "    testTarget_oh = s.run(tf.one_hot(testTarget, num_label))\n",
    "    trainTarget_oh = s.run(tf.one_hot(trainTarget, num_label))\n",
    "    validTarget_oh = s.run(tf.one_hot(validTarget, num_label))"
   ]
  },
  {
   "cell_type": "code",
   "execution_count": 5,
   "metadata": {},
   "outputs": [],
   "source": [
    "#TODO: add bias\n",
    "#TODO: weight decay\n",
    "def build_layer(prev_layer, num_node):\n",
    "    prev_num_node = prev_layer.shape[1].value\n",
    "    xavier_stddev = tf.sqrt(3.0/(prev_num_node + num_node))\n",
    "    W = tf.Variable(tf.random_normal(shape=[prev_num_node, num_node], stddev=xavier_stddev))\n",
    "    b = tf.Variable(tf.zeros([num_node]))\n",
    "    \n",
    "    return tf.add(tf.matmul(prev_layer, W), b)"
   ]
  },
  {
   "cell_type": "code",
   "execution_count": 6,
   "metadata": {},
   "outputs": [],
   "source": [
    "x = tf.placeholder(\"float\", shape=[None, num_feature])\n",
    "y_true = tf.placeholder(\"float\", shape=[None, num_label])"
   ]
  },
  {
   "cell_type": "code",
   "execution_count": 7,
   "metadata": {},
   "outputs": [],
   "source": [
    "layer1 = build_layer(x, 1000)\n",
    "layer1 = tf.nn.relu(layer1)\n",
    "\n",
    "layer2 = build_layer(layer1, 1000)\n",
    "layer2 = tf.nn.relu(layer2)\n",
    "\n",
    "layer3 = build_layer(layer2, 1000)\n",
    "layer3 = tf.nn.relu(layer3)\n",
    "\n",
    "layer4 = build_layer(layer3, 1000)\n",
    "layer4 = tf.nn.relu(layer4)\n",
    "\n",
    "layer5 = build_layer(layer4, 1000)\n",
    "layer5 = tf.nn.relu(layer5)"
   ]
  },
  {
   "cell_type": "code",
   "execution_count": 8,
   "metadata": {},
   "outputs": [],
   "source": [
    "y = build_layer(layer3, num_label) #output layer\n",
    "loss = tf.reduce_mean(tf.nn.softmax_cross_entropy_with_logits_v2(labels=y_true, logits=y))"
   ]
  },
  {
   "cell_type": "code",
   "execution_count": 9,
   "metadata": {},
   "outputs": [],
   "source": [
    "learning_rate = 0.005\n",
    "train_step = tf.train.AdamOptimizer(learning_rate).minimize(loss)"
   ]
  },
  {
   "cell_type": "code",
   "execution_count": 10,
   "metadata": {},
   "outputs": [],
   "source": [
    "batch_size = 500\n",
    "epoch_ratio = int(train_size/batch_size)\n",
    "iteration = 20000"
   ]
  },
  {
   "cell_type": "code",
   "execution_count": 11,
   "metadata": {},
   "outputs": [],
   "source": [
    "correct_prediction = tf.equal(tf.argmax(y, 1), tf.argmax(y_true, 1))\n",
    "accuracy = tf.reduce_mean(tf.cast(correct_prediction, tf.float32))"
   ]
  },
  {
   "cell_type": "code",
   "execution_count": 13,
   "metadata": {},
   "outputs": [
    {
     "name": "stdout",
     "output_type": "stream",
     "text": [
      "43.147808\n",
      "0.10462555\n",
      "\n",
      "0.013762262\n",
      "0.91997063\n",
      "\n",
      "0.0025197566\n",
      "0.9229075\n",
      "\n",
      "0.21031204\n",
      "0.8986784\n",
      "\n",
      "0.020712024\n",
      "0.9232746\n",
      "\n",
      "0.02065319\n",
      "0.9229075\n",
      "\n",
      "0.014427692\n",
      "0.9192364\n",
      "\n"
     ]
    }
   ],
   "source": [
    "with tf.Session() as s:\n",
    "    tf.global_variables_initializer().run()\n",
    "    \n",
    "    for step in xrange(iteration):\n",
    "        offset = (step*batch_size) % train_size\n",
    "        \n",
    "        batch_data = trainData[offset:(offset + batch_size)]\n",
    "        batch_target = trainTarget_oh[offset:(offset + batch_size)]\n",
    "    \n",
    "        train_step.run(feed_dict={x: batch_data, y_true: batch_target})\n",
    "    \n",
    "        if step%(epoch_ratio)==0:\n",
    "            randIndx = np.arange(len(trainData))\n",
    "            np.random.shuffle(randIndx)\n",
    "            trainData, trainTarget = trainData[randIndx], trainTarget[randIndx]\n",
    "            trainTarget_oh = s.run(tf.one_hot(trainTarget, num_label))\n",
    "        \n",
    "        if step%(epoch_ratio * 100) == 0:\n",
    "            print s.run(loss, feed_dict={x: trainData, y_true: trainTarget_oh})\n",
    "            print accuracy.eval({x: testData, y_true: testTarget_oh})\n",
    "            print ''"
   ]
  },
  {
   "cell_type": "code",
   "execution_count": null,
   "metadata": {},
   "outputs": [],
   "source": []
  },
  {
   "cell_type": "code",
   "execution_count": null,
   "metadata": {},
   "outputs": [],
   "source": []
  },
  {
   "cell_type": "code",
   "execution_count": null,
   "metadata": {},
   "outputs": [],
   "source": []
  },
  {
   "cell_type": "code",
   "execution_count": null,
   "metadata": {},
   "outputs": [],
   "source": []
  }
 ],
 "metadata": {
  "kernelspec": {
   "display_name": "Python 2",
   "language": "python",
   "name": "python2"
  },
  "language_info": {
   "codemirror_mode": {
    "name": "ipython",
    "version": 2
   },
   "file_extension": ".py",
   "mimetype": "text/x-python",
   "name": "python",
   "nbconvert_exporter": "python",
   "pygments_lexer": "ipython2",
   "version": "2.7.12"
  }
 },
 "nbformat": 4,
 "nbformat_minor": 2
}
