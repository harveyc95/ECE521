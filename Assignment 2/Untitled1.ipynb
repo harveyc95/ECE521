{
 "cells": [
  {
   "cell_type": "code",
   "execution_count": 2,
   "metadata": {},
   "outputs": [],
   "source": [
    "import tensorflow as tf\n",
    "import numpy as np"
   ]
  },
  {
   "cell_type": "code",
   "execution_count": 49,
   "metadata": {},
   "outputs": [],
   "source": [
    "with np.load(\"notMNIST.npz\") as data:\n",
    "    Data, Target = data [\"images\"], data[\"labels\"]\n",
    "    np.random.seed(521)\n",
    "    randIndx = np.arange(len(Data))\n",
    "    np.random.shuffle(randIndx)\n",
    "    Data = np.reshape(Data, [-1, 28*28])\n",
    "    Data = Data[randIndx]/255.\n",
    "    Target = Target[randIndx]\n",
    "    trainData, trainTarget = Data[:15000], Target[:15000]\n",
    "    validData, validTarget = Data[15000:16000], Target[15000:16000]\n",
    "    testData, testTarget = Data[16000:], Target[16000:]"
   ]
  },
  {
   "cell_type": "code",
   "execution_count": 50,
   "metadata": {},
   "outputs": [],
   "source": [
    "num_label = 10"
   ]
  },
  {
   "cell_type": "code",
   "execution_count": 51,
   "metadata": {},
   "outputs": [],
   "source": [
    "train_size, num_feature = np.shape(trainData)"
   ]
  },
  {
   "cell_type": "code",
   "execution_count": 52,
   "metadata": {},
   "outputs": [],
   "source": [
    "x = tf.placeholder(\"float\", shape=[None, num_feature])\n",
    "y_true = tf.placeholder(\"float\", shape=[None, num_label])\n",
    "\n",
    "W = tf.Variable(tf.zeros([num_feature, num_label]))\n",
    "b = tf.Variable(tf.zeros([num_label]))\n",
    "y = tf.matmul(x, W) + b"
   ]
  },
  {
   "cell_type": "code",
   "execution_count": 53,
   "metadata": {},
   "outputs": [],
   "source": [
    "weight_decay = 0.0\n",
    "loss = tf.reduce_mean(tf.nn.softmax_cross_entropy_with_logits_v2(labels=y_true, logits=y))\\\n",
    "        + 0.5*weight_decay*tf.reduce_sum(tf.square(W))"
   ]
  },
  {
   "cell_type": "code",
   "execution_count": 54,
   "metadata": {},
   "outputs": [],
   "source": [
    "learning_rate = 0.005\n",
    "train_step = tf.train.AdamOptimizer(learning_rate).minimize(loss)"
   ]
  },
  {
   "cell_type": "code",
   "execution_count": 58,
   "metadata": {},
   "outputs": [
    {
     "name": "stdout",
     "output_type": "stream",
     "text": [
      "1.2773091\n",
      "20.228188\n",
      "409.1796\n"
     ]
    }
   ],
   "source": [
    "batch_size = 500\n",
    "iteration = 2000\n",
    "\n",
    "with tf.Session() as s:\n",
    "    tf.global_variables_initializer().run()\n",
    "    trainTarget_onehot = s.run(tf.one_hot(trainTarget, num_label))\n",
    "    testTarget_onehot = s.run(tf.one_hot(trainTarget, num_label))\n",
    "    \n",
    "    for step in xrange(iteration):\n",
    "        offset = (step*batch_size) % num_label\n",
    "        \n",
    "        batch_data = trainData[offset:(offset + batch_size), :]\n",
    "        batch_target = trainTarget_onehot[offset:(offset + batch_size)]\n",
    "    \n",
    "        train_step.run(feed_dict={x: batch_data, y_true: batch_target})\n",
    "    \n",
    "        if step%epoch_ratio==0:\n",
    "            loss_history.append(s.run(loss, feed_dict={x: trainData, y_true: trainTarget}))\n",
    "            accuracy_history.append(accuracy.eval({x: testData, y_true: testTarget}))\n",
    "\n",
    "    print s.run(loss, feed_dict={x: trainData, y_true: trainTarget_onehot})\n",
    "    print s.run(tf.norm(W))\n",
    "    print s.run(tf.reduce_sum(tf.square(W)))"
   ]
  },
  {
   "cell_type": "code",
   "execution_count": null,
   "metadata": {},
   "outputs": [],
   "source": []
  },
  {
   "cell_type": "code",
   "execution_count": null,
   "metadata": {},
   "outputs": [],
   "source": []
  },
  {
   "cell_type": "code",
   "execution_count": 15,
   "metadata": {},
   "outputs": [],
   "source": [
    "\n",
    "data = np.load('data.npy').astype(np.int32)\n",
    "data = np.reshape(data, [-1, 32*32])\n",
    "target = np.load('target.npy').astype(np.int64)\n",
    "target = np.array(map(lambda x: x[0], target)) # Person\n",
    "\n",
    "dataSize = len(data)\n",
    "\n",
    "np.random.seed(521)\n",
    "randIdx = np.arange(dataSize)\n",
    "np.random.shuffle(randIdx)\n",
    "\n",
    "train_partition = int(dataSize*0.8)\n",
    "data = data[randIdx]/255.\n",
    "target = target[randIdx]\n",
    "trainData, trainTarget = data[:train_partition], target[:train_partition]\n",
    "testData, testTarget = data[train_partition:], target[train_partition:]\n"
   ]
  },
  {
   "cell_type": "code",
   "execution_count": null,
   "metadata": {},
   "outputs": [],
   "source": []
  }
 ],
 "metadata": {
  "kernelspec": {
   "display_name": "Python 2",
   "language": "python",
   "name": "python2"
  },
  "language_info": {
   "codemirror_mode": {
    "name": "ipython",
    "version": 2
   },
   "file_extension": ".py",
   "mimetype": "text/x-python",
   "name": "python",
   "nbconvert_exporter": "python",
   "pygments_lexer": "ipython2",
   "version": "2.7.12"
  }
 },
 "nbformat": 4,
 "nbformat_minor": 2
}
