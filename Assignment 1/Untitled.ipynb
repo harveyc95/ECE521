{
 "cells": [
  {
   "cell_type": "code",
   "execution_count": 1,
   "metadata": {},
   "outputs": [],
   "source": [
    "import tensorflow as tf\n",
    "import numpy as np"
   ]
  },
  {
   "cell_type": "code",
   "execution_count": 90,
   "metadata": {},
   "outputs": [],
   "source": [
    "data = np.load('data.npy')\n",
    "target = np.load('target.npy')\n",
    "dataSize = len(data)\n",
    "\n",
    "np.random.seed(521)\n",
    "randIdx = np.arange(dataSize)\n",
    "np.random.shuffle(randIdx)\n",
    "\n",
    "train_partition = int(dataSize*0.8)\n",
    "trainData, trainTarget = data[randIdx[:train_partition]], target[randIdx[:train_partition]]\n",
    "testData, testTarget = data[randIdx[train_partition:]], target[randIdx[train_partition:]]"
   ]
  },
  {
   "cell_type": "code",
   "execution_count": 79,
   "metadata": {},
   "outputs": [],
   "source": [
    "def sqr_distance(X, Z):\n",
    "    X = tf.expand_dims(train1, 1)\n",
    "    Z = tf.expand_dims(test1, 0)\n",
    "    T = tf.square(X-Z)\n",
    "    T = tf.reduce_sum(T, axis=3)\n",
    "    T = tf.reduce_sum(T, axis=2)\n",
    "    return T\n",
    "\n",
    "def knn_matrix(X, pt, Y, k=1):\n",
    "\tdist = sqr_distance(X, pt)\n",
    "\t_, idx = tf.nn.top_k(-1*tf.transpose(dist), k=k)\n",
    "\treturn tf.gather(Y, idx)\n",
    "\n"
   ]
  },
  {
   "cell_type": "code",
   "execution_count": 93,
   "metadata": {},
   "outputs": [],
   "source": [
    "train1 = trainData[:5].astype(np.int32)\n",
    "trainTarget1 = np.array(map(lambda x: x[0], trainTarget[:5])).astype(np.int32)\n",
    "test1 = testData[:2].astype(np.int32)\n",
    "testTarget1 = np.array(map(lambda x: x[0], testTarget[:2])).astype(np.int32)"
   ]
  },
  {
   "cell_type": "code",
   "execution_count": 123,
   "metadata": {},
   "outputs": [
    {
     "data": {
      "text/plain": [
       "array([5, 3, 0, 3, 2], dtype=int32)"
      ]
     },
     "execution_count": 123,
     "metadata": {},
     "output_type": "execute_result"
    }
   ],
   "source": [
    "trainTarget1"
   ]
  },
  {
   "cell_type": "code",
   "execution_count": 132,
   "metadata": {},
   "outputs": [],
   "source": [
    "with tf.Session() as s:\n",
    "    test1 = train1[:2]\n",
    "    dist = sqr_distance(train1, test1)\n",
    "    _, idx = tf.nn.top_k(-1*tf.transpose(dist), k=1)\n",
    "    gather = tf.gather(trainTarget1, idx)\n",
    "    \n",
    "    count0 = tf.count_nonzero(gather, axis=1)\n",
    "    count1 = tf.count_nonzero(gather-1, axis=1)\n",
    "    count2 = tf.count_nonzero(gather-2, axis=1)\n",
    "    count3 = tf.count_nonzero(gather-3, axis=1)\n",
    "    count4 = tf.count_nonzero(gather-4, axis=1)\n",
    "    count5 = tf.count_nonzero(gather-5, axis=1)\n",
    "    \n",
    "    gather = s.run(gather)\n",
    "    count0 = s.run(count0)\n",
    "    count1 = s.run(count1)\n",
    "    count2 = s.run(count2)\n",
    "    count3 = s.run(count3)\n",
    "    count4 = s.run(count4)\n",
    "    count5 = s.run(count5)\n",
    "    \n",
    "    prediction = np.argmin(np.array([count0, count1, count2, count3, count4, count5]), axis=0)\n",
    "    "
   ]
  },
  {
   "cell_type": "code",
   "execution_count": 133,
   "metadata": {},
   "outputs": [
    {
     "name": "stdout",
     "output_type": "stream",
     "text": [
      "[[5]\n",
      " [3]]\n",
      "[1 1]\n",
      "[1 1]\n",
      "[1 1]\n",
      "[1 0]\n",
      "[1 1]\n",
      "[0 1]\n",
      "[5 3]\n"
     ]
    }
   ],
   "source": [
    "print gather\n",
    "print count0\n",
    "print count1\n",
    "print count2\n",
    "print count3\n",
    "print count4\n",
    "print count5\n",
    "print prediction"
   ]
  },
  {
   "cell_type": "code",
   "execution_count": 109,
   "metadata": {},
   "outputs": [],
   "source": [
    "count = np.array([count0, count1, count2, count3, count4, count5])"
   ]
  },
  {
   "cell_type": "code",
   "execution_count": 116,
   "metadata": {},
   "outputs": [
    {
     "data": {
      "text/plain": [
       "array([0, 2])"
      ]
     },
     "execution_count": 116,
     "metadata": {},
     "output_type": "execute_result"
    }
   ],
   "source": [
    "np.argmin(count, axis=0)"
   ]
  },
  {
   "cell_type": "code",
   "execution_count": null,
   "metadata": {},
   "outputs": [],
   "source": []
  },
  {
   "cell_type": "code",
   "execution_count": 139,
   "metadata": {},
   "outputs": [
    {
     "name": "stdout",
     "output_type": "stream",
     "text": [
      "0.333333\n"
     ]
    }
   ],
   "source": [
    "with tf.Session() as s:\n",
    "    print s.run(tf.reduce_mean(tf.cast(tf.equal([2,3,5], [1,1,5]), tf.float32)))"
   ]
  },
  {
   "cell_type": "code",
   "execution_count": 78,
   "metadata": {},
   "outputs": [
    {
     "name": "stdout",
     "output_type": "stream",
     "text": [
      "[[5 0]\n",
      " [3 1]\n",
      " [0 1]\n",
      " [3 1]\n",
      " [2 1]]\n"
     ]
    }
   ],
   "source": [
    "print trainTarget1"
   ]
  },
  {
   "cell_type": "code",
   "execution_count": 80,
   "metadata": {},
   "outputs": [
    {
     "data": {
      "text/plain": [
       "[5, 3, 0, 3, 2]"
      ]
     },
     "execution_count": 80,
     "metadata": {},
     "output_type": "execute_result"
    }
   ],
   "source": [
    "map(lambda x: x[0], trainTarget1)"
   ]
  },
  {
   "cell_type": "code",
   "execution_count": null,
   "metadata": {},
   "outputs": [],
   "source": [
    "len(testData)"
   ]
  },
  {
   "cell_type": "code",
   "execution_count": null,
   "metadata": {},
   "outputs": [],
   "source": []
  }
 ],
 "metadata": {
  "kernelspec": {
   "display_name": "Python 2",
   "language": "python",
   "name": "python2"
  },
  "language_info": {
   "codemirror_mode": {
    "name": "ipython",
    "version": 2
   },
   "file_extension": ".py",
   "mimetype": "text/x-python",
   "name": "python",
   "nbconvert_exporter": "python",
   "pygments_lexer": "ipython2",
   "version": "2.7.12"
  }
 },
 "nbformat": 4,
 "nbformat_minor": 2
}
